{
 "cells": [
  {
   "cell_type": "code",
   "execution_count": 1,
   "metadata": {},
   "outputs": [],
   "source": [
    "import pandas as pd\n",
    "import matplotlib.pyplot as plt\n",
    "import numpy as np\n",
    "import warnings\n",
    "warnings.filterwarnings('ignore')"
   ]
  },
  {
   "cell_type": "markdown",
   "metadata": {},
   "source": [
    "## Início -\n",
    "\n",
    "O pacote Pandas do python lida (majoritariamente) com uma classe chamada DataFrame. Esse DataFrame pode ser entendido como um dicionário que tem funções a mais.\n",
    "\n",
    "Para iniciarmos o processo, é melhor entender como é a criação de um DataFrame.\n",
    "\n",
    "Vamos utilizar a tabela abaixo como exemplo:\n",
    "\n",
    "| Time | Vitórias | Derrotas | Empates |\n",
    "| ---- | -------- | -------- | ------- |\n",
    "| Real Gui Nasm | 0 | 2 | 1 |\n",
    "| Orfali's Old Boys | 3 | 0 | 0 |\n",
    "| Inter de Miranda | 2 | 1 | 0 |\n",
    "| Clube de Regatas do Tiagão | 3 | 0 | 0 |\n",
    "| Esporte Clube William Vaz | 1 | 2 | 0 |\n",
    "\n",
    "Ela representa um campeonato fictício, com nomes de times em uma coluna, número de vitórias em outra, e assim por diante. É importante perceber que não há pontuação calculada ainda, iremos fazer isso mais para frente.\n",
    "\n",
    "Se eu pedisse para algum aluno que acabou de aprender python representar isso em código, a implementação seria algo parecido com o que é visto na célula abaixo."
   ]
  },
  {
   "cell_type": "code",
   "execution_count": 2,
   "metadata": {},
   "outputs": [
    {
     "data": {
      "text/plain": [
       "[{'Time': 'Real Gui Nasm', 'Vitórias': 0, 'Derrotas': 2, 'Empates': 1},\n",
       " {'Time': 'Orfalis Old Boys', 'Vitórias': 3, 'Derrotas': 0, 'Empates': 0},\n",
       " {'Time': 'Inter de Miranda', 'Vitórias': 2, 'Derrotas': 1, 'Empates': 0},\n",
       " {'Time': 'Clube de Regatas do Tiagão',\n",
       "  'Vitórias': 3,\n",
       "  'Derrotas': 0,\n",
       "  'Empates': 0},\n",
       " {'Time': 'Esporte Clube William Vaz',\n",
       "  'Vitórias': 1,\n",
       "  'Derrotas': 2,\n",
       "  'Empates': 0}]"
      ]
     },
     "execution_count": 2,
     "metadata": {},
     "output_type": "execute_result"
    }
   ],
   "source": [
    "tabela = list()\n",
    "\n",
    "real_gui_nasm = {'Time':'Real Gui Nasm','Vitórias':0,'Derrotas':2, 'Empates':1}\n",
    "orfalis_old_boys = {'Time':\"Orfalis Old Boys\",'Vitórias':3,'Derrotas':0, 'Empates':0}\n",
    "inter_de_miranda = {'Time':'Inter de Miranda','Vitórias':2,'Derrotas':1, 'Empates':0}\n",
    "cr_tiagao = {'Time':'Clube de Regatas do Tiagão','Vitórias':3,'Derrotas':0, 'Empates':0}\n",
    "ec_william_vaz = {'Time':'Esporte Clube William Vaz','Vitórias':1,'Derrotas':2, 'Empates':0}\n",
    "\n",
    "tabela.append(real_gui_nasm)\n",
    "tabela.append(orfalis_old_boys)\n",
    "tabela.append(inter_de_miranda)\n",
    "tabela.append(cr_tiagao)\n",
    "tabela.append(ec_william_vaz)\n",
    "\n",
    "tabela"
   ]
  },
  {
   "cell_type": "markdown",
   "metadata": {},
   "source": [
    "Outra possibilidade é guardar os resultados em listas dentro de um dicionário, com posições nas listas correspondentes. Um exemplo disso está abaixo."
   ]
  },
  {
   "cell_type": "code",
   "execution_count": 3,
   "metadata": {},
   "outputs": [
    {
     "data": {
      "text/plain": [
       "{'Time': ['Real Gui Nasm',\n",
       "  'Orfalis Old Boys',\n",
       "  'Inter de Miranda',\n",
       "  'Clube de Regatas do Tiagão',\n",
       "  'Esporte Clube William Vaz'],\n",
       " 'Vitórias': [0, 3, 2, 3, 1],\n",
       " 'Derrotas': [2, 0, 1, 0, 2],\n",
       " 'Empates': [1, 0, 0, 0, 0]}"
      ]
     },
     "execution_count": 3,
     "metadata": {},
     "output_type": "execute_result"
    }
   ],
   "source": [
    "tabela2 = {\n",
    "    'Time':['Real Gui Nasm', 'Orfalis Old Boys', 'Inter de Miranda', 'Clube de Regatas do Tiagão', 'Esporte Clube William Vaz'],\n",
    "    'Vitórias':[0,3,2,3,1],\n",
    "    'Derrotas':[2,0,1,0,2],\n",
    "    'Empates':[1,0,0,0,0]\n",
    "}\n",
    "\n",
    "tabela2"
   ]
  },
  {
   "cell_type": "markdown",
   "metadata": {},
   "source": [
    "## Inicializando Um DataFrame\n",
    "\n",
    "        Para continuar nessa primeira etapa, as células acima precisam estar rodadas.\n",
    "\n",
    "É muito simples inicializar um data frame (quando já se tem os dados organizados). Veja a célula abaixo com cautela, e revise caso necessário."
   ]
  },
  {
   "cell_type": "code",
   "execution_count": 4,
   "metadata": {},
   "outputs": [
    {
     "data": {
      "text/html": [
       "<div>\n",
       "<style scoped>\n",
       "    .dataframe tbody tr th:only-of-type {\n",
       "        vertical-align: middle;\n",
       "    }\n",
       "\n",
       "    .dataframe tbody tr th {\n",
       "        vertical-align: top;\n",
       "    }\n",
       "\n",
       "    .dataframe thead th {\n",
       "        text-align: right;\n",
       "    }\n",
       "</style>\n",
       "<table border=\"1\" class=\"dataframe\">\n",
       "  <thead>\n",
       "    <tr style=\"text-align: right;\">\n",
       "      <th></th>\n",
       "      <th>Time</th>\n",
       "      <th>Vitórias</th>\n",
       "      <th>Derrotas</th>\n",
       "      <th>Empates</th>\n",
       "    </tr>\n",
       "  </thead>\n",
       "  <tbody>\n",
       "    <tr>\n",
       "      <th>0</th>\n",
       "      <td>Real Gui Nasm</td>\n",
       "      <td>0</td>\n",
       "      <td>2</td>\n",
       "      <td>1</td>\n",
       "    </tr>\n",
       "    <tr>\n",
       "      <th>1</th>\n",
       "      <td>Orfalis Old Boys</td>\n",
       "      <td>3</td>\n",
       "      <td>0</td>\n",
       "      <td>0</td>\n",
       "    </tr>\n",
       "    <tr>\n",
       "      <th>2</th>\n",
       "      <td>Inter de Miranda</td>\n",
       "      <td>2</td>\n",
       "      <td>1</td>\n",
       "      <td>0</td>\n",
       "    </tr>\n",
       "    <tr>\n",
       "      <th>3</th>\n",
       "      <td>Clube de Regatas do Tiagão</td>\n",
       "      <td>3</td>\n",
       "      <td>0</td>\n",
       "      <td>0</td>\n",
       "    </tr>\n",
       "    <tr>\n",
       "      <th>4</th>\n",
       "      <td>Esporte Clube William Vaz</td>\n",
       "      <td>1</td>\n",
       "      <td>2</td>\n",
       "      <td>0</td>\n",
       "    </tr>\n",
       "  </tbody>\n",
       "</table>\n",
       "</div>"
      ],
      "text/plain": [
       "                         Time  Vitórias  Derrotas  Empates\n",
       "0               Real Gui Nasm         0         2        1\n",
       "1            Orfalis Old Boys         3         0        0\n",
       "2            Inter de Miranda         2         1        0\n",
       "3  Clube de Regatas do Tiagão         3         0        0\n",
       "4   Esporte Clube William Vaz         1         2        0"
      ]
     },
     "execution_count": 4,
     "metadata": {},
     "output_type": "execute_result"
    }
   ],
   "source": [
    "import pandas as pd\n",
    "\n",
    "# Inicialização do DataFrame. Por convenção, utilizamos o nome de variável 'df' (de 'Data' 'Frame') quando realizamos operações com pandas, mas o nome não é importante.\n",
    "df = pd.DataFrame(tabela)\n",
    "\n",
    "# função que mostra as primeiras 5 linhas do DataFrame. No nosso caso, por ser um DataFrame pequeno, ele mostra todos os nossos dados.\n",
    "df.head()"
   ]
  },
  {
   "cell_type": "markdown",
   "metadata": {},
   "source": [
    "O resultado de rodar a célula acima é um objeto do Pandas chamado DataFrame, que permite a manipulação e utilização de dados de maneira mais simples, rápida e eficaz. Nele, temos 4 colunas (`Time`, `Vitórias`, `Derrotas`, `Empates`) e 5 linhas (uma para cada time representado). Os número mais a esquerda da tabela são os índices, o número referente a linha daquela tabela. \n",
    "\n",
    "Utilizamos os dados já organizados naquela primeira representação da tabela para inicializar e criar um DataFrame. Mas, aquela organização não é a única possível. Um outro exemplo é a variável ´tabela2´, que também consegue ser transformada em um DataFrame de maneira simples."
   ]
  },
  {
   "cell_type": "code",
   "execution_count": 5,
   "metadata": {},
   "outputs": [
    {
     "data": {
      "text/html": [
       "<div>\n",
       "<style scoped>\n",
       "    .dataframe tbody tr th:only-of-type {\n",
       "        vertical-align: middle;\n",
       "    }\n",
       "\n",
       "    .dataframe tbody tr th {\n",
       "        vertical-align: top;\n",
       "    }\n",
       "\n",
       "    .dataframe thead th {\n",
       "        text-align: right;\n",
       "    }\n",
       "</style>\n",
       "<table border=\"1\" class=\"dataframe\">\n",
       "  <thead>\n",
       "    <tr style=\"text-align: right;\">\n",
       "      <th></th>\n",
       "      <th>Time</th>\n",
       "      <th>Vitórias</th>\n",
       "      <th>Derrotas</th>\n",
       "      <th>Empates</th>\n",
       "    </tr>\n",
       "  </thead>\n",
       "  <tbody>\n",
       "    <tr>\n",
       "      <th>0</th>\n",
       "      <td>Real Gui Nasm</td>\n",
       "      <td>0</td>\n",
       "      <td>2</td>\n",
       "      <td>1</td>\n",
       "    </tr>\n",
       "    <tr>\n",
       "      <th>1</th>\n",
       "      <td>Orfalis Old Boys</td>\n",
       "      <td>3</td>\n",
       "      <td>0</td>\n",
       "      <td>0</td>\n",
       "    </tr>\n",
       "    <tr>\n",
       "      <th>2</th>\n",
       "      <td>Inter de Miranda</td>\n",
       "      <td>2</td>\n",
       "      <td>1</td>\n",
       "      <td>0</td>\n",
       "    </tr>\n",
       "    <tr>\n",
       "      <th>3</th>\n",
       "      <td>Clube de Regatas do Tiagão</td>\n",
       "      <td>3</td>\n",
       "      <td>0</td>\n",
       "      <td>0</td>\n",
       "    </tr>\n",
       "    <tr>\n",
       "      <th>4</th>\n",
       "      <td>Esporte Clube William Vaz</td>\n",
       "      <td>1</td>\n",
       "      <td>2</td>\n",
       "      <td>0</td>\n",
       "    </tr>\n",
       "  </tbody>\n",
       "</table>\n",
       "</div>"
      ],
      "text/plain": [
       "                         Time  Vitórias  Derrotas  Empates\n",
       "0               Real Gui Nasm         0         2        1\n",
       "1            Orfalis Old Boys         3         0        0\n",
       "2            Inter de Miranda         2         1        0\n",
       "3  Clube de Regatas do Tiagão         3         0        0\n",
       "4   Esporte Clube William Vaz         1         2        0"
      ]
     },
     "execution_count": 5,
     "metadata": {},
     "output_type": "execute_result"
    }
   ],
   "source": [
    "import pandas as pd\n",
    "\n",
    "# Inicialização do DataFrame. Por convenção, utilizamos o nome de variável 'df2' (de segundo 'Data' 'Frame') quando realizamos operações com pandas, mas o nome não é importante.\n",
    "df2 = pd.DataFrame(tabela2)\n",
    "\n",
    "# função que mostra as primeiras linhas do DataFrame. No nosso caso, por ser um DataFrame pequeno, ele mostra todos os nossos dados.\n",
    "df2.head()"
   ]
  },
  {
   "cell_type": "markdown",
   "metadata": {},
   "source": [
    "``Mas, e se eu não tiver dados ainda? Posso criar um DataFrame sem nada?``\n",
    "\n",
    "Claro que sim. Você consegue criar um DataFrame vazio, e ir populando ele com o tempo."
   ]
  },
  {
   "cell_type": "code",
   "execution_count": 6,
   "metadata": {},
   "outputs": [
    {
     "data": {
      "text/html": [
       "<div>\n",
       "<style scoped>\n",
       "    .dataframe tbody tr th:only-of-type {\n",
       "        vertical-align: middle;\n",
       "    }\n",
       "\n",
       "    .dataframe tbody tr th {\n",
       "        vertical-align: top;\n",
       "    }\n",
       "\n",
       "    .dataframe thead th {\n",
       "        text-align: right;\n",
       "    }\n",
       "</style>\n",
       "<table border=\"1\" class=\"dataframe\">\n",
       "  <thead>\n",
       "    <tr style=\"text-align: right;\">\n",
       "      <th></th>\n",
       "    </tr>\n",
       "  </thead>\n",
       "  <tbody>\n",
       "  </tbody>\n",
       "</table>\n",
       "</div>"
      ],
      "text/plain": [
       "Empty DataFrame\n",
       "Columns: []\n",
       "Index: []"
      ]
     },
     "execution_count": 6,
     "metadata": {},
     "output_type": "execute_result"
    }
   ],
   "source": [
    "df_vazio = pd.DataFrame()\n",
    "\n",
    "df_vazio.head()"
   ]
  },
  {
   "cell_type": "markdown",
   "metadata": {},
   "source": [
    "Seu DataFrame sem nada agora existe, mas, como fazer para colocar valores nele?\n",
    "\n",
    "Vamos supor que você queira colocar uma coluna que tem valores de 0 a 4. O nome da coluna será $Números$ e os valores serão $[0,1,2,3,4]$. Apenas siga essas instruções:\n",
    "- Declare uma variável com os valores que você queria colocar. Por serem vários, crie uma lista em Python que vá de 0 até 4 em números inteiros.\n",
    "- Escolha um nome para sua nova coluna. No exemplo está $Números$, então esse será adotado.\n",
    "- Associe a lista a coluna utilizando uma sintaxe parecida com um dicionário em Python. Escreva `<nome_do_DataFrame>[<nome_da_coluna>] = <valores>`, substituindo os campos vagos pelas suas variáveis.\n",
    "\n",
    "Segue o exemplo em código."
   ]
  },
  {
   "cell_type": "code",
   "execution_count": 7,
   "metadata": {},
   "outputs": [
    {
     "data": {
      "text/html": [
       "<div>\n",
       "<style scoped>\n",
       "    .dataframe tbody tr th:only-of-type {\n",
       "        vertical-align: middle;\n",
       "    }\n",
       "\n",
       "    .dataframe tbody tr th {\n",
       "        vertical-align: top;\n",
       "    }\n",
       "\n",
       "    .dataframe thead th {\n",
       "        text-align: right;\n",
       "    }\n",
       "</style>\n",
       "<table border=\"1\" class=\"dataframe\">\n",
       "  <thead>\n",
       "    <tr style=\"text-align: right;\">\n",
       "      <th></th>\n",
       "      <th>Números</th>\n",
       "    </tr>\n",
       "  </thead>\n",
       "  <tbody>\n",
       "    <tr>\n",
       "      <th>0</th>\n",
       "      <td>0</td>\n",
       "    </tr>\n",
       "    <tr>\n",
       "      <th>1</th>\n",
       "      <td>1</td>\n",
       "    </tr>\n",
       "    <tr>\n",
       "      <th>2</th>\n",
       "      <td>2</td>\n",
       "    </tr>\n",
       "    <tr>\n",
       "      <th>3</th>\n",
       "      <td>3</td>\n",
       "    </tr>\n",
       "    <tr>\n",
       "      <th>4</th>\n",
       "      <td>4</td>\n",
       "    </tr>\n",
       "  </tbody>\n",
       "</table>\n",
       "</div>"
      ],
      "text/plain": [
       "   Números\n",
       "0        0\n",
       "1        1\n",
       "2        2\n",
       "3        3\n",
       "4        4"
      ]
     },
     "execution_count": 7,
     "metadata": {},
     "output_type": "execute_result"
    }
   ],
   "source": [
    "# Declarando um novo DataFrame\n",
    "df = pd.DataFrame()\n",
    "\n",
    "# declarando a lista de valores de 0 a 4\n",
    "valores = [0,1,2,3,4]\n",
    "\n",
    "# realizando a associação, colocando os valores no DataFrame\n",
    "df['Números'] = valores\n",
    "\n",
    "# realizando o print do DataFrame, para melhor visualizar o feito.\n",
    "df.head()"
   ]
  },
  {
   "cell_type": "markdown",
   "metadata": {},
   "source": [
    "Agora, sabemos como criar um DataFrame do zero e instanciar uma nova coluna nele."
   ]
  },
  {
   "cell_type": "markdown",
   "metadata": {},
   "source": [
    "## Trabalhando com um DataFrame\n",
    "\n",
    "Vamos voltar ao exemplo dos times.\n",
    "\n",
    "| Time | Vitórias | Derrotas | Empates |\n",
    "| ---- | -------- | -------- | ------- |\n",
    "| Real Gui Nasm | 0 | 2 | 1 |\n",
    "| Orfali's Old Boys | 3 | 0 | 0 |\n",
    "| Inter de Miranda | 2 | 1 | 0 |\n",
    "| Clube de Regatas do Tiagão | 3 | 0 | 0 |\n",
    "| Esporte Clube William Vaz | 1 | 2 | 0 |\n",
    "\n",
    "A tabela está sem uma informação muito importante: a pontuação de cada equipe.\n",
    "\n",
    "Vamos supor que cada vitória vale 3 pontos, cada empate vale 1 ponto e as derrotas são nulas.\n",
    "\n",
    "Para fazermos os cálculos teríamos que, por clube, realizar o seguinte cálculo:\n",
    "\n",
    "$$\n",
    "P = 3V + E\n",
    "$$\n",
    "\n",
    "Mas, como acessar as vitórias de um time específico? Como acessar seus empates? Como fazer essa conta de maneira direta?\n",
    "\n",
    "Vamos quebrar esse raciocínio em partes:\n",
    "\n",
    "    1 - Acessar colunas específicas do DataFrame.\n",
    "\n",
    "    2 - Realizar operações entre colunas.\n",
    "\n",
    "    3 - Criar uma nova coluna com o resultado das contas.\n"
   ]
  },
  {
   "cell_type": "markdown",
   "metadata": {},
   "source": [
    "Montando o DataFrame das partidas."
   ]
  },
  {
   "cell_type": "code",
   "execution_count": 8,
   "metadata": {},
   "outputs": [],
   "source": [
    "import pandas as pd\n",
    "\n",
    "tabela_exemplo = {\n",
    "    'Time':['Real Gui Nasm', 'Orfalis Old Boys', 'Inter de Miranda', 'Clube de Regatas do Tiagão', 'Esporte Clube William Vaz'],\n",
    "    'Vitórias':[0,3,2,3,1],\n",
    "    'Derrotas':[2,0,1,0,2],\n",
    "    'Empates':[1,0,0,0,0]\n",
    "}\n",
    "\n",
    "df = pd.DataFrame(tabela_exemplo)"
   ]
  },
  {
   "cell_type": "markdown",
   "metadata": {},
   "source": [
    "### 1 - Acessando uma Coluna Específica\n",
    "\n",
    "Se eu fosse querer apenas os empates, pensando no dicionário inicial (`tabela_exemplo`), como que eu conseguiria essas informações?\n",
    "\n",
    "É simples, acessando a lista associada a chave `Empates` do dicionário."
   ]
  },
  {
   "cell_type": "code",
   "execution_count": 9,
   "metadata": {},
   "outputs": [
    {
     "data": {
      "text/plain": [
       "[1, 0, 0, 0, 0]"
      ]
     },
     "execution_count": 9,
     "metadata": {},
     "output_type": "execute_result"
    }
   ],
   "source": [
    "tabela_exemplo['Empates']"
   ]
  },
  {
   "cell_type": "markdown",
   "metadata": {},
   "source": [
    "Para a de `Vitórias`, o processo é o mesmo."
   ]
  },
  {
   "cell_type": "code",
   "execution_count": 10,
   "metadata": {},
   "outputs": [
    {
     "data": {
      "text/plain": [
       "[0, 3, 2, 3, 1]"
      ]
     },
     "execution_count": 10,
     "metadata": {},
     "output_type": "execute_result"
    }
   ],
   "source": [
    "tabela_exemplo['Vitórias']"
   ]
  },
  {
   "cell_type": "markdown",
   "metadata": {},
   "source": [
    "Em um DataFrame, o processo é idêntico. A única diferença é que o objeto retornado não é uma lista, e sim um objeto `pandas.Series`."
   ]
  },
  {
   "cell_type": "code",
   "execution_count": 11,
   "metadata": {},
   "outputs": [
    {
     "name": "stdout",
     "output_type": "stream",
     "text": [
      "O objeto vict_list é do tipo: <class 'list'> |\n",
      "Guarda a Seguinte informação: [0, 3, 2, 3, 1] \n",
      "\n",
      "O objeto vict_coluna é do seguinte tipo: <class 'pandas.core.series.Series'> |\n",
      "Guarda e Seguinte informação:\n",
      "0    0\n",
      "1    3\n",
      "2    2\n",
      "3    3\n",
      "4    1\n",
      "Name: Vitórias, dtype: int64\n"
     ]
    }
   ],
   "source": [
    "vict_list = tabela_exemplo['Vitórias']\n",
    "\n",
    "vict_coluna = df['Vitórias']\n",
    "\n",
    "print(f'O objeto vict_list é do tipo: {type(vict_list)} |\\nGuarda a Seguinte informação: {vict_list} \\n')\n",
    "print(f'O objeto vict_coluna é do seguinte tipo: {type(vict_coluna)} |\\nGuarda e Seguinte informação:\\n{vict_coluna}')"
   ]
  },
  {
   "cell_type": "markdown",
   "metadata": {},
   "source": [
    "Veja que o `vict_colunas` possui duas colunas. A da esquerda é referente ao índice, e a da direita é o valor associado aquele índice. Isso se assemelha muito a uma lista em python. Inclusive, conseguimos percorrer uma objeto ``Series`` como uma lista utilizando o comando `.loc` ao final."
   ]
  },
  {
   "cell_type": "code",
   "execution_count": 12,
   "metadata": {},
   "outputs": [
    {
     "name": "stdout",
     "output_type": "stream",
     "text": [
      "O primeiro elemento da lista é 0\n",
      "O primeiro elemento da Serie é 0\n"
     ]
    }
   ],
   "source": [
    "elemento_1_lista = vict_list[0]\n",
    "\n",
    "print(f'O primeiro elemento da lista é {elemento_1_lista}')\n",
    "\n",
    "elemento_1_serie = vict_coluna.loc[0]\n",
    "\n",
    "print(f'O primeiro elemento da Serie é {elemento_1_serie}')"
   ]
  },
  {
   "cell_type": "markdown",
   "metadata": {},
   "source": [
    "Veja como ambos dão o mesmo resultado.\n",
    "\n",
    "Esse processo de escolher uma coluna e depois escolher um valor específico funciona para qualquer DataFrame do Pandas."
   ]
  },
  {
   "cell_type": "markdown",
   "metadata": {},
   "source": [
    "### 2 - Realizar Operações Entre Colunas\n",
    "\n",
    "Agora que conseguimos acessar uma coluna específica do DataFrame, podemos partir para as operações. \n",
    "\n",
    "A operação que queremos realizar para cada time é:\n",
    "\n",
    "$$\n",
    "P = 3V + E\n",
    "$$\n",
    "\n",
    "Onde $P$ é a pontuação do time, $V$ é o número de vitórias e $E$ o de empates.\n",
    "\n",
    "Podemos realizar isso de duas maneiras principais: \n",
    "\n",
    " 1 - Tratando a coluna como uma lista\n",
    "\n",
    " 2 - Tirando vantagem da classe `pandas.core.series.Series`"
   ]
  },
  {
   "cell_type": "markdown",
   "metadata": {},
   "source": [
    "Vamos começar pelo mais básico. Vamos inicializar uma lista que será nossa pontuação e outras duas variáveis, uma para a coluna de vitórias e outra para a de empates."
   ]
  },
  {
   "cell_type": "code",
   "execution_count": 13,
   "metadata": {},
   "outputs": [
    {
     "name": "stdout",
     "output_type": "stream",
     "text": [
      "A lista de pontuações é: [1, 9, 6, 9, 3]\n"
     ]
    }
   ],
   "source": [
    "# declaração da lista de pontuações, começa vazia\n",
    "pontuacao = []\n",
    "\n",
    "# declaração da variável da coluna de vitórias\n",
    "vitorias = df['Vitórias']\n",
    "\n",
    "# declaração da variável da coluna de empates\n",
    "empates = df['Empates']\n",
    "\n",
    "# o range(5) faz o 'i' ir de 0 a 4, percorrendo todas as linhas do nosso DataFrame em cada uma das colunas correspondentes \n",
    "for i in range(5):\n",
    "    # variável para guardar a pontuação do time atual\n",
    "    p = vitorias.loc[i]*3 + empates.loc[i]\n",
    "    # colocando o valor de p na lista de pontuação\n",
    "    pontuacao.append(p)\n",
    "\n",
    "\n",
    "print(f'A lista de pontuações é: {pontuacao}')"
   ]
  },
  {
   "cell_type": "markdown",
   "metadata": {},
   "source": [
    "Agora, vamos inicializar uma bova coluna do DataFrame, com o nome de `Pontuação-1` para guardar esse primeiro exemplo de como se calcula a pontuação."
   ]
  },
  {
   "cell_type": "code",
   "execution_count": 14,
   "metadata": {},
   "outputs": [
    {
     "data": {
      "text/html": [
       "<div>\n",
       "<style scoped>\n",
       "    .dataframe tbody tr th:only-of-type {\n",
       "        vertical-align: middle;\n",
       "    }\n",
       "\n",
       "    .dataframe tbody tr th {\n",
       "        vertical-align: top;\n",
       "    }\n",
       "\n",
       "    .dataframe thead th {\n",
       "        text-align: right;\n",
       "    }\n",
       "</style>\n",
       "<table border=\"1\" class=\"dataframe\">\n",
       "  <thead>\n",
       "    <tr style=\"text-align: right;\">\n",
       "      <th></th>\n",
       "      <th>Time</th>\n",
       "      <th>Vitórias</th>\n",
       "      <th>Derrotas</th>\n",
       "      <th>Empates</th>\n",
       "      <th>Pontuação-1</th>\n",
       "    </tr>\n",
       "  </thead>\n",
       "  <tbody>\n",
       "    <tr>\n",
       "      <th>0</th>\n",
       "      <td>Real Gui Nasm</td>\n",
       "      <td>0</td>\n",
       "      <td>2</td>\n",
       "      <td>1</td>\n",
       "      <td>1</td>\n",
       "    </tr>\n",
       "    <tr>\n",
       "      <th>1</th>\n",
       "      <td>Orfalis Old Boys</td>\n",
       "      <td>3</td>\n",
       "      <td>0</td>\n",
       "      <td>0</td>\n",
       "      <td>9</td>\n",
       "    </tr>\n",
       "    <tr>\n",
       "      <th>2</th>\n",
       "      <td>Inter de Miranda</td>\n",
       "      <td>2</td>\n",
       "      <td>1</td>\n",
       "      <td>0</td>\n",
       "      <td>6</td>\n",
       "    </tr>\n",
       "    <tr>\n",
       "      <th>3</th>\n",
       "      <td>Clube de Regatas do Tiagão</td>\n",
       "      <td>3</td>\n",
       "      <td>0</td>\n",
       "      <td>0</td>\n",
       "      <td>9</td>\n",
       "    </tr>\n",
       "    <tr>\n",
       "      <th>4</th>\n",
       "      <td>Esporte Clube William Vaz</td>\n",
       "      <td>1</td>\n",
       "      <td>2</td>\n",
       "      <td>0</td>\n",
       "      <td>3</td>\n",
       "    </tr>\n",
       "  </tbody>\n",
       "</table>\n",
       "</div>"
      ],
      "text/plain": [
       "                         Time  Vitórias  Derrotas  Empates  Pontuação-1\n",
       "0               Real Gui Nasm         0         2        1            1\n",
       "1            Orfalis Old Boys         3         0        0            9\n",
       "2            Inter de Miranda         2         1        0            6\n",
       "3  Clube de Regatas do Tiagão         3         0        0            9\n",
       "4   Esporte Clube William Vaz         1         2        0            3"
      ]
     },
     "execution_count": 14,
     "metadata": {},
     "output_type": "execute_result"
    }
   ],
   "source": [
    "df['Pontuação-1'] = pontuacao\n",
    "\n",
    "df.head()"
   ]
  },
  {
   "cell_type": "markdown",
   "metadata": {},
   "source": [
    "A outra maneira é mais simples em termos de código. Vamos fazer uma conta direta nas colunas e atribuir o resultado diretamente a uma nova coluna chamada `Pontuação-2`."
   ]
  },
  {
   "cell_type": "code",
   "execution_count": 15,
   "metadata": {},
   "outputs": [
    {
     "data": {
      "text/html": [
       "<div>\n",
       "<style scoped>\n",
       "    .dataframe tbody tr th:only-of-type {\n",
       "        vertical-align: middle;\n",
       "    }\n",
       "\n",
       "    .dataframe tbody tr th {\n",
       "        vertical-align: top;\n",
       "    }\n",
       "\n",
       "    .dataframe thead th {\n",
       "        text-align: right;\n",
       "    }\n",
       "</style>\n",
       "<table border=\"1\" class=\"dataframe\">\n",
       "  <thead>\n",
       "    <tr style=\"text-align: right;\">\n",
       "      <th></th>\n",
       "      <th>Time</th>\n",
       "      <th>Vitórias</th>\n",
       "      <th>Derrotas</th>\n",
       "      <th>Empates</th>\n",
       "      <th>Pontuação-1</th>\n",
       "      <th>Pontuação-2</th>\n",
       "    </tr>\n",
       "  </thead>\n",
       "  <tbody>\n",
       "    <tr>\n",
       "      <th>0</th>\n",
       "      <td>Real Gui Nasm</td>\n",
       "      <td>0</td>\n",
       "      <td>2</td>\n",
       "      <td>1</td>\n",
       "      <td>1</td>\n",
       "      <td>1</td>\n",
       "    </tr>\n",
       "    <tr>\n",
       "      <th>1</th>\n",
       "      <td>Orfalis Old Boys</td>\n",
       "      <td>3</td>\n",
       "      <td>0</td>\n",
       "      <td>0</td>\n",
       "      <td>9</td>\n",
       "      <td>9</td>\n",
       "    </tr>\n",
       "    <tr>\n",
       "      <th>2</th>\n",
       "      <td>Inter de Miranda</td>\n",
       "      <td>2</td>\n",
       "      <td>1</td>\n",
       "      <td>0</td>\n",
       "      <td>6</td>\n",
       "      <td>6</td>\n",
       "    </tr>\n",
       "    <tr>\n",
       "      <th>3</th>\n",
       "      <td>Clube de Regatas do Tiagão</td>\n",
       "      <td>3</td>\n",
       "      <td>0</td>\n",
       "      <td>0</td>\n",
       "      <td>9</td>\n",
       "      <td>9</td>\n",
       "    </tr>\n",
       "    <tr>\n",
       "      <th>4</th>\n",
       "      <td>Esporte Clube William Vaz</td>\n",
       "      <td>1</td>\n",
       "      <td>2</td>\n",
       "      <td>0</td>\n",
       "      <td>3</td>\n",
       "      <td>3</td>\n",
       "    </tr>\n",
       "  </tbody>\n",
       "</table>\n",
       "</div>"
      ],
      "text/plain": [
       "                         Time  Vitórias  Derrotas  Empates  Pontuação-1  \\\n",
       "0               Real Gui Nasm         0         2        1            1   \n",
       "1            Orfalis Old Boys         3         0        0            9   \n",
       "2            Inter de Miranda         2         1        0            6   \n",
       "3  Clube de Regatas do Tiagão         3         0        0            9   \n",
       "4   Esporte Clube William Vaz         1         2        0            3   \n",
       "\n",
       "   Pontuação-2  \n",
       "0            1  \n",
       "1            9  \n",
       "2            6  \n",
       "3            9  \n",
       "4            3  "
      ]
     },
     "execution_count": 15,
     "metadata": {},
     "output_type": "execute_result"
    }
   ],
   "source": [
    "# Estou selecionando as colunas e já operando diretamente com o objeto de Serie do Pandas. Além disso, já faço a alocação para a coluna diretamente.\n",
    "df['Pontuação-2'] = df['Vitórias']*3 + df['Empates']\n",
    "\n",
    "df.head()"
   ]
  },
  {
   "cell_type": "markdown",
   "metadata": {},
   "source": [
    "Isso é apenas possível pois, com o objeto `Series` do pandas, essas operações matemáticas acontecem entre valores que possuem o mesmo índice. Em outras palavras, somar duas colunas soma os valores das duas colunas linha a linha, e o resultado é outro objeto `Series` com os resultados dessa soma linha a linha."
   ]
  },
  {
   "cell_type": "markdown",
   "metadata": {},
   "source": [
    "Repository under MIT License. Copyright &copy; 2023 João Alfredo Cardoso Lamy"
   ]
  },
  {
   "cell_type": "markdown",
   "metadata": {},
   "source": []
  }
 ],
 "metadata": {
  "kernelspec": {
   "display_name": "env",
   "language": "python",
   "name": "python3"
  },
  "language_info": {
   "codemirror_mode": {
    "name": "ipython",
    "version": 3
   },
   "file_extension": ".py",
   "mimetype": "text/x-python",
   "name": "python",
   "nbconvert_exporter": "python",
   "pygments_lexer": "ipython3",
   "version": "3.10.13"
  },
  "orig_nbformat": 4,
  "vscode": {
   "interpreter": {
    "hash": "35baacc6244c2c4cacc2be55295c8edcd7f972e742cd4f4819a385d69745c9f2"
   }
  }
 },
 "nbformat": 4,
 "nbformat_minor": 2
}
