{
 "cells": [
  {
   "cell_type": "code",
   "execution_count": 2,
   "metadata": {},
   "outputs": [],
   "source": [
    "import pandas as pd\n",
    "import matplotlib.pyplot as plt\n",
    "import numpy as np\n",
    "import warnings\n",
    "warnings.filterwarnings('ignore')"
   ]
  },
  {
   "cell_type": "markdown",
   "metadata": {},
   "source": [
    "# Lendo Dados - Trabalhando com Tabelas Reais\n",
    "\n",
    "Iremos trabalhar com o dataset `datasus_populacao_faixa_etarea.csv`. Ele tem os dados do censo populacional em 2012, divididos por faixa etária.\n",
    "\n",
    "Abaixo, está o código de como ler um artigo do tipo `.csv`, algo recorrente quando trabalhamos com dados."
   ]
  },
  {
   "cell_type": "code",
   "execution_count": 3,
   "metadata": {},
   "outputs": [
    {
     "data": {
      "text/html": [
       "<div>\n",
       "<style scoped>\n",
       "    .dataframe tbody tr th:only-of-type {\n",
       "        vertical-align: middle;\n",
       "    }\n",
       "\n",
       "    .dataframe tbody tr th {\n",
       "        vertical-align: top;\n",
       "    }\n",
       "\n",
       "    .dataframe thead th {\n",
       "        text-align: right;\n",
       "    }\n",
       "</style>\n",
       "<table border=\"1\" class=\"dataframe\">\n",
       "  <thead>\n",
       "    <tr style=\"text-align: right;\">\n",
       "      <th></th>\n",
       "      <th>População Residente - Brasil</th>\n",
       "    </tr>\n",
       "  </thead>\n",
       "  <tbody>\n",
       "    <tr>\n",
       "      <th>0</th>\n",
       "      <td>População residente por Município e Faixa Etária</td>\n",
       "    </tr>\n",
       "    <tr>\n",
       "      <th>1</th>\n",
       "      <td>Período:2012</td>\n",
       "    </tr>\n",
       "    <tr>\n",
       "      <th>2</th>\n",
       "      <td>Município;\"Menor 1 ano\";\"1 a 4 anos\";\"5 a 9 an...</td>\n",
       "    </tr>\n",
       "    <tr>\n",
       "      <th>3</th>\n",
       "      <td>110001 ALTA FLORESTA D'OESTE;371;1511;2079;236...</td>\n",
       "    </tr>\n",
       "    <tr>\n",
       "      <th>4</th>\n",
       "      <td>110002 ARIQUEMES;1447;6015;8504;9502;9281;1790...</td>\n",
       "    </tr>\n",
       "  </tbody>\n",
       "</table>\n",
       "</div>"
      ],
      "text/plain": [
       "                        População Residente - Brasil\n",
       "0   População residente por Município e Faixa Etária\n",
       "1                                       Período:2012\n",
       "2  Município;\"Menor 1 ano\";\"1 a 4 anos\";\"5 a 9 an...\n",
       "3  110001 ALTA FLORESTA D'OESTE;371;1511;2079;236...\n",
       "4  110002 ARIQUEMES;1447;6015;8504;9502;9281;1790..."
      ]
     },
     "execution_count": 3,
     "metadata": {},
     "output_type": "execute_result"
    }
   ],
   "source": [
    "import pandas as pd\n",
    "\n",
    "# a função read_csv() já nos retorna um objeto do tipo DataFrame\n",
    "df = pd.read_csv('data/datasus_populacao_faixa_etarea.csv')\n",
    "\n",
    "df.head()"
   ]
  },
  {
   "cell_type": "markdown",
   "metadata": {},
   "source": [
    "Há algo estranho no DataFrame acima. Ele possui apenas uma coluna, e não divide os dados em faixas etárias, como é para ser feito.\n",
    "\n",
    "Vá dentro da pasta `data` e abra o arquivo original em outra aba. Há algo de estranho, não é mesmo?\n",
    "\n",
    "O nosso dataset começa com uma descrição do que ele é, com os nomes das colunas apenas aparecendo na 3a linha.\n",
    "\n",
    "Para começar do ponto correto, iremos pular as linhas iniciais utilizando o método `skiprows` da função `pd.read_csv()`."
   ]
  },
  {
   "cell_type": "code",
   "execution_count": 4,
   "metadata": {},
   "outputs": [
    {
     "data": {
      "text/html": [
       "<div>\n",
       "<style scoped>\n",
       "    .dataframe tbody tr th:only-of-type {\n",
       "        vertical-align: middle;\n",
       "    }\n",
       "\n",
       "    .dataframe tbody tr th {\n",
       "        vertical-align: top;\n",
       "    }\n",
       "\n",
       "    .dataframe thead th {\n",
       "        text-align: right;\n",
       "    }\n",
       "</style>\n",
       "<table border=\"1\" class=\"dataframe\">\n",
       "  <thead>\n",
       "    <tr style=\"text-align: right;\">\n",
       "      <th></th>\n",
       "      <th>Município;\"Menor 1 ano\";\"1 a 4 anos\";\"5 a 9 anos\";\"10 a 14 anos\";\"15 a 19 anos\";\"20 a 29 anos\";\"30 a 39 anos\";\"40 a 49 anos\";\"50 a 59 anos\";\"60 a 69 anos\";\"70 a 79 anos\";\"80 anos e mais\";\"Total\"</th>\n",
       "    </tr>\n",
       "  </thead>\n",
       "  <tbody>\n",
       "    <tr>\n",
       "      <th>0</th>\n",
       "      <td>110001 ALTA FLORESTA D'OESTE;371;1511;2079;236...</td>\n",
       "    </tr>\n",
       "    <tr>\n",
       "      <th>1</th>\n",
       "      <td>110002 ARIQUEMES;1447;6015;8504;9502;9281;1790...</td>\n",
       "    </tr>\n",
       "    <tr>\n",
       "      <th>2</th>\n",
       "      <td>110003 CABIXI;109;382;493;588;577;942;893;856;...</td>\n",
       "    </tr>\n",
       "    <tr>\n",
       "      <th>3</th>\n",
       "      <td>110004 CACOAL;1222;4642;6336;7545;7935;14918;1...</td>\n",
       "    </tr>\n",
       "    <tr>\n",
       "      <th>4</th>\n",
       "      <td>110005 CEREJEIRAS;254;968;1342;1619;1701;2939;...</td>\n",
       "    </tr>\n",
       "  </tbody>\n",
       "</table>\n",
       "</div>"
      ],
      "text/plain": [
       "  Município;\"Menor 1 ano\";\"1 a 4 anos\";\"5 a 9 anos\";\"10 a 14 anos\";\"15 a 19 anos\";\"20 a 29 anos\";\"30 a 39 anos\";\"40 a 49 anos\";\"50 a 59 anos\";\"60 a 69 anos\";\"70 a 79 anos\";\"80 anos e mais\";\"Total\"\n",
       "0  110001 ALTA FLORESTA D'OESTE;371;1511;2079;236...                                                                                                                                                \n",
       "1  110002 ARIQUEMES;1447;6015;8504;9502;9281;1790...                                                                                                                                                \n",
       "2  110003 CABIXI;109;382;493;588;577;942;893;856;...                                                                                                                                                \n",
       "3  110004 CACOAL;1222;4642;6336;7545;7935;14918;1...                                                                                                                                                \n",
       "4  110005 CEREJEIRAS;254;968;1342;1619;1701;2939;...                                                                                                                                                "
      ]
     },
     "execution_count": 4,
     "metadata": {},
     "output_type": "execute_result"
    }
   ],
   "source": [
    "import pandas as pd\n",
    "\n",
    "# a função read_csv() já nos retorna um objeto do tipo DataFrame\n",
    "df = pd.read_csv('data/datasus_populacao_faixa_etarea.csv', skiprows=3)\n",
    "\n",
    "df.head()"
   ]
  },
  {
   "cell_type": "markdown",
   "metadata": {},
   "source": [
    "Mesmo assim, ainda o problema insiste.\n",
    "\n",
    "Nessa etapa, iremos esclarecer o que separa um valor do outro no nosso dataset. Para isso, é necessário dizer qual o `separator` ou `sep` ao ler o arquivo. Analisando os dados, fica claro que esse separador é o caracter `;` (o básico do Pandas é a vírgula normal)."
   ]
  },
  {
   "cell_type": "code",
   "execution_count": 5,
   "metadata": {},
   "outputs": [
    {
     "data": {
      "text/html": [
       "<div>\n",
       "<style scoped>\n",
       "    .dataframe tbody tr th:only-of-type {\n",
       "        vertical-align: middle;\n",
       "    }\n",
       "\n",
       "    .dataframe tbody tr th {\n",
       "        vertical-align: top;\n",
       "    }\n",
       "\n",
       "    .dataframe thead th {\n",
       "        text-align: right;\n",
       "    }\n",
       "</style>\n",
       "<table border=\"1\" class=\"dataframe\">\n",
       "  <thead>\n",
       "    <tr style=\"text-align: right;\">\n",
       "      <th></th>\n",
       "      <th>Município</th>\n",
       "      <th>Menor 1 ano</th>\n",
       "      <th>1 a 4 anos</th>\n",
       "      <th>5 a 9 anos</th>\n",
       "      <th>10 a 14 anos</th>\n",
       "      <th>15 a 19 anos</th>\n",
       "      <th>20 a 29 anos</th>\n",
       "      <th>30 a 39 anos</th>\n",
       "      <th>40 a 49 anos</th>\n",
       "      <th>50 a 59 anos</th>\n",
       "      <th>60 a 69 anos</th>\n",
       "      <th>70 a 79 anos</th>\n",
       "      <th>80 anos e mais</th>\n",
       "      <th>Total</th>\n",
       "    </tr>\n",
       "  </thead>\n",
       "  <tbody>\n",
       "    <tr>\n",
       "      <th>0</th>\n",
       "      <td>110001 ALTA FLORESTA D'OESTE</td>\n",
       "      <td>371</td>\n",
       "      <td>1511</td>\n",
       "      <td>2079</td>\n",
       "      <td>2369</td>\n",
       "      <td>2554</td>\n",
       "      <td>4235</td>\n",
       "      <td>3613</td>\n",
       "      <td>3238</td>\n",
       "      <td>2039</td>\n",
       "      <td>1211</td>\n",
       "      <td>680</td>\n",
       "      <td>169</td>\n",
       "      <td>24069</td>\n",
       "    </tr>\n",
       "    <tr>\n",
       "      <th>1</th>\n",
       "      <td>110002 ARIQUEMES</td>\n",
       "      <td>1447</td>\n",
       "      <td>6015</td>\n",
       "      <td>8504</td>\n",
       "      <td>9502</td>\n",
       "      <td>9281</td>\n",
       "      <td>17901</td>\n",
       "      <td>14999</td>\n",
       "      <td>11762</td>\n",
       "      <td>7080</td>\n",
       "      <td>3772</td>\n",
       "      <td>1842</td>\n",
       "      <td>642</td>\n",
       "      <td>92747</td>\n",
       "    </tr>\n",
       "    <tr>\n",
       "      <th>2</th>\n",
       "      <td>110003 CABIXI</td>\n",
       "      <td>109</td>\n",
       "      <td>382</td>\n",
       "      <td>493</td>\n",
       "      <td>588</td>\n",
       "      <td>577</td>\n",
       "      <td>942</td>\n",
       "      <td>893</td>\n",
       "      <td>856</td>\n",
       "      <td>664</td>\n",
       "      <td>365</td>\n",
       "      <td>208</td>\n",
       "      <td>55</td>\n",
       "      <td>6132</td>\n",
       "    </tr>\n",
       "    <tr>\n",
       "      <th>3</th>\n",
       "      <td>110004 CACOAL</td>\n",
       "      <td>1222</td>\n",
       "      <td>4642</td>\n",
       "      <td>6336</td>\n",
       "      <td>7545</td>\n",
       "      <td>7935</td>\n",
       "      <td>14918</td>\n",
       "      <td>12806</td>\n",
       "      <td>10580</td>\n",
       "      <td>6808</td>\n",
       "      <td>3665</td>\n",
       "      <td>2055</td>\n",
       "      <td>818</td>\n",
       "      <td>79330</td>\n",
       "    </tr>\n",
       "    <tr>\n",
       "      <th>4</th>\n",
       "      <td>110005 CEREJEIRAS</td>\n",
       "      <td>254</td>\n",
       "      <td>968</td>\n",
       "      <td>1342</td>\n",
       "      <td>1619</td>\n",
       "      <td>1701</td>\n",
       "      <td>2939</td>\n",
       "      <td>2543</td>\n",
       "      <td>2372</td>\n",
       "      <td>1450</td>\n",
       "      <td>976</td>\n",
       "      <td>514</td>\n",
       "      <td>174</td>\n",
       "      <td>16852</td>\n",
       "    </tr>\n",
       "  </tbody>\n",
       "</table>\n",
       "</div>"
      ],
      "text/plain": [
       "                      Município  Menor 1 ano  1 a 4 anos  5 a 9 anos  \\\n",
       "0  110001 ALTA FLORESTA D'OESTE          371        1511        2079   \n",
       "1              110002 ARIQUEMES         1447        6015        8504   \n",
       "2                 110003 CABIXI          109         382         493   \n",
       "3                 110004 CACOAL         1222        4642        6336   \n",
       "4             110005 CEREJEIRAS          254         968        1342   \n",
       "\n",
       "   10 a 14 anos  15 a 19 anos  20 a 29 anos  30 a 39 anos  40 a 49 anos  \\\n",
       "0          2369          2554          4235          3613          3238   \n",
       "1          9502          9281         17901         14999         11762   \n",
       "2           588           577           942           893           856   \n",
       "3          7545          7935         14918         12806         10580   \n",
       "4          1619          1701          2939          2543          2372   \n",
       "\n",
       "   50 a 59 anos  60 a 69 anos  70 a 79 anos  80 anos e mais  Total  \n",
       "0          2039          1211           680             169  24069  \n",
       "1          7080          3772          1842             642  92747  \n",
       "2           664           365           208              55   6132  \n",
       "3          6808          3665          2055             818  79330  \n",
       "4          1450           976           514             174  16852  "
      ]
     },
     "execution_count": 5,
     "metadata": {},
     "output_type": "execute_result"
    }
   ],
   "source": [
    "import pandas as pd\n",
    "\n",
    "# a função read_csv() já nos retorna um objeto do tipo DataFrame\n",
    "df = pd.read_csv('data/datasus_populacao_faixa_etarea.csv', skiprows=3, sep=';')\n",
    "\n",
    "df.head()"
   ]
  },
  {
   "cell_type": "markdown",
   "metadata": {},
   "source": [
    "Agora temos um DataFrame feito a partir de um arquivo. A próxima etapa é utilizar o que você aprendeu no primeiro Notebook para analisar esses dados."
   ]
  },
  {
   "cell_type": "markdown",
   "metadata": {},
   "source": [
    "## Trabalhando com o DataFrame - Análises\n",
    "\n",
    "A primeira análise é separar a população entre faixas mais amplas.\n",
    "\n",
    "### Exercício 1 - \n",
    "\n",
    "Criar colunas '19 Anos ou Menos', '20 a 59 anos' e '60 Anos ou Acima'."
   ]
  },
  {
   "cell_type": "code",
   "execution_count": 1,
   "metadata": {},
   "outputs": [],
   "source": [
    "# Colocar sua resolução aqui\n"
   ]
  },
  {
   "cell_type": "markdown",
   "metadata": {},
   "source": [
    "### Exercício 2 - \n",
    "Crie outras três colunas, com valores que representem a taxa de cada grupo por município."
   ]
  },
  {
   "cell_type": "code",
   "execution_count": null,
   "metadata": {},
   "outputs": [],
   "source": []
  },
  {
   "cell_type": "markdown",
   "metadata": {},
   "source": [
    "## Criação de Filtros\n",
    "\n",
    "Um DataFrame pode conter o grupo que queremos observar, mas esse mesmo pode estar no meio de informações não tão relevantes para a nossa análise.\n",
    "\n",
    "Vamos imaginar que, para nossos fins, queremos apenas analisar os municípios que possuem mais idosos do que jovens. Como realizar isso?\n",
    "\n",
    "A resposta é muito simples, a criação de um filtro."
   ]
  },
  {
   "cell_type": "markdown",
   "metadata": {},
   "source": [
    "### Exercício 3 - \n",
    "Criar um filtro que apenas mostre municípios com mais idosos do que jovens."
   ]
  },
  {
   "cell_type": "code",
   "execution_count": null,
   "metadata": {},
   "outputs": [],
   "source": []
  },
  {
   "cell_type": "markdown",
   "metadata": {},
   "source": [
    "### Exercício 4 - \n",
    "Crie um filtro que mostre apenas os municípios que tenham mais pessoas com 19 anos ou menos do que pessoas com mais de 19 anos."
   ]
  },
  {
   "cell_type": "code",
   "execution_count": null,
   "metadata": {},
   "outputs": [],
   "source": []
  },
  {
   "cell_type": "markdown",
   "metadata": {},
   "source": [
    "## Escolhendo Colunas\n",
    "\n",
    "Nosso DataFrame está ficando cada vez melhor, mas ainda temos um problema. Ele está muito poluído, há informações nele que não são necessárias. Como fazemos para desconsiderar as colunas que não nos interessam?\n",
    "\n",
    "Há duas maneiras:\n",
    "\n",
    "- A função `.drop()` do pandas\n",
    "- Uma lista com o nome das colunas que queremos"
   ]
  },
  {
   "cell_type": "markdown",
   "metadata": {},
   "source": [
    "### Função `drop.()`\n",
    "\n",
    "- Passamos como parâmetro as colunas que não queremos mais no nosso DataFrame.\n",
    "\n",
    "### Lista\n",
    "\n",
    "- Inclui o nome das colunas que queremos no nosso DataFrame."
   ]
  },
  {
   "cell_type": "markdown",
   "metadata": {},
   "source": [
    "### Exercício 5 - \n",
    "\n",
    "Selecione apenas as colunas `Município`, `Total`, `19 Anos ou Menos`, `20 a 59 Anos`, `60 Anos ou Acima` do DataFrame e salve na variável `df_analise`. "
   ]
  },
  {
   "cell_type": "code",
   "execution_count": null,
   "metadata": {},
   "outputs": [],
   "source": []
  },
  {
   "cell_type": "code",
   "execution_count": null,
   "metadata": {},
   "outputs": [],
   "source": []
  },
  {
   "cell_type": "code",
   "execution_count": null,
   "metadata": {},
   "outputs": [],
   "source": []
  },
  {
   "cell_type": "markdown",
   "metadata": {},
   "source": [
    "## Funções e DataFrames - A Utilização do Apply()\n",
    "\n",
    "Em DataFrames, podemos realizar operações com funções normais sem necessitar de um loop (seja ele `while` ou `for`). Para isso, utilizamos algo chamado `.apply()`, que recebe como parâmetro o nome da função desejada.\n",
    "\n",
    "Vamos voltar ao exemplo do primeiro notebook, a tabela de times.\n",
    "\n",
    "| Time | Vitórias | Derrotas | Empates |\n",
    "| ---- | -------- | -------- | ------- |\n",
    "| Real Gui Nasm | 0 | 2 | 1 |\n",
    "| Orfali's Old Boys | 3 | 0 | 0 |\n",
    "| Inter de Miranda | 2 | 1 | 0 |\n",
    "| Clube de Regatas do Tiagão | 3 | 0 | 0 |\n",
    "| Esporte Clube William Vaz | 1 | 2 | 0 |\n",
    "\n",
    "Vamos supor que todos os times com um número de vitórias menor que $2$ ganharam nessa rodada, e os times que estavam na liderança acabaram perdendo. Como fazer um update nessa tabela sem manualmente editar os dados?\n",
    "\n",
    "Aí entra o `.apply()`. \n",
    "\n",
    "Vamos criar duas funções:\n",
    "\n",
    "- `update_vitórias(x)` : recebe o número de vitórias do time e soma um a esse número se ele for menor ou igual a 2.\n",
    "- `update_derrotas(x)` : recebe o número de vitórias e derrotas do time e soma um se o número de derrotas for 0."
   ]
  },
  {
   "cell_type": "code",
   "execution_count": 13,
   "metadata": {},
   "outputs": [
    {
     "data": {
      "text/html": [
       "<div>\n",
       "<style scoped>\n",
       "    .dataframe tbody tr th:only-of-type {\n",
       "        vertical-align: middle;\n",
       "    }\n",
       "\n",
       "    .dataframe tbody tr th {\n",
       "        vertical-align: top;\n",
       "    }\n",
       "\n",
       "    .dataframe thead th {\n",
       "        text-align: right;\n",
       "    }\n",
       "</style>\n",
       "<table border=\"1\" class=\"dataframe\">\n",
       "  <thead>\n",
       "    <tr style=\"text-align: right;\">\n",
       "      <th></th>\n",
       "      <th>Times</th>\n",
       "      <th>Vitórias</th>\n",
       "      <th>Derrotas</th>\n",
       "      <th>Empates</th>\n",
       "    </tr>\n",
       "  </thead>\n",
       "  <tbody>\n",
       "    <tr>\n",
       "      <th>0</th>\n",
       "      <td>Real Gui Nasm</td>\n",
       "      <td>0</td>\n",
       "      <td>2</td>\n",
       "      <td>1</td>\n",
       "    </tr>\n",
       "    <tr>\n",
       "      <th>1</th>\n",
       "      <td>Orfalis Old Boys</td>\n",
       "      <td>3</td>\n",
       "      <td>0</td>\n",
       "      <td>0</td>\n",
       "    </tr>\n",
       "    <tr>\n",
       "      <th>2</th>\n",
       "      <td>Inter de Miranda</td>\n",
       "      <td>2</td>\n",
       "      <td>1</td>\n",
       "      <td>0</td>\n",
       "    </tr>\n",
       "    <tr>\n",
       "      <th>3</th>\n",
       "      <td>Clube de Regatas do Tiagão</td>\n",
       "      <td>3</td>\n",
       "      <td>0</td>\n",
       "      <td>0</td>\n",
       "    </tr>\n",
       "    <tr>\n",
       "      <th>4</th>\n",
       "      <td>Esporte Clube William Vaz</td>\n",
       "      <td>1</td>\n",
       "      <td>2</td>\n",
       "      <td>0</td>\n",
       "    </tr>\n",
       "  </tbody>\n",
       "</table>\n",
       "</div>"
      ],
      "text/plain": [
       "                        Times  Vitórias  Derrotas  Empates\n",
       "0               Real Gui Nasm         0         2        1\n",
       "1            Orfalis Old Boys         3         0        0\n",
       "2            Inter de Miranda         2         1        0\n",
       "3  Clube de Regatas do Tiagão         3         0        0\n",
       "4   Esporte Clube William Vaz         1         2        0"
      ]
     },
     "execution_count": 13,
     "metadata": {},
     "output_type": "execute_result"
    }
   ],
   "source": [
    "import pandas as pd\n",
    "\n",
    "# Inicialização do DataFrame. \n",
    "df_times = pd.DataFrame()\n",
    "df_times['Times'] = ['Real Gui Nasm', 'Orfalis Old Boys', 'Inter de Miranda', 'Clube de Regatas do Tiagão', 'Esporte Clube William Vaz']\n",
    "df_times['Vitórias'] = [0,3,2,3,1]\n",
    "df_times['Derrotas'] = [2,0,1,0,2]\n",
    "df_times['Empates'] = [1,0,0,0,0]\n",
    "\n",
    "df_times.head()"
   ]
  },
  {
   "cell_type": "code",
   "execution_count": 2,
   "metadata": {},
   "outputs": [],
   "source": [
    "# Escreva sua Resolução Aqui\n"
   ]
  },
  {
   "cell_type": "markdown",
   "metadata": {},
   "source": [
    "A partir disso, podemos até mesmo utilizar essa técnica para criar filtros, basta retornar `True` quando a condição é atendida ou `False` no caso contrário."
   ]
  },
  {
   "cell_type": "markdown",
   "metadata": {},
   "source": [
    "### Exercício 6 - \n",
    "\n",
    "Crie um filtro para mostrar apenas os municípios do Sudeste brasileiro. \n",
    "\n",
    "        Dica : olhe para o número dos municípios"
   ]
  },
  {
   "cell_type": "code",
   "execution_count": null,
   "metadata": {},
   "outputs": [],
   "source": []
  },
  {
   "cell_type": "markdown",
   "metadata": {},
   "source": [
    "## Análise de Dados - Criando Gráficos\n",
    "\n",
    "Após toda essa análise, chegou a hora de criarmos gráficos que nos ajudam a analisar melhor os nossos dados, já que as tabelas são muito densas.\n",
    "\n",
    "Para isso, iremos utilizar o pacote `Matplotlib` do python. Geralmente, fazemos `import matplotlib.pyplot as plt` para simplificar a confecção do código (pense no `plt` como uma outra maneira de chamar `marplotlib.pyplot`).\n",
    "\n",
    "Abaixo está um exemplo que plota o número de jovens por município do sudeste."
   ]
  },
  {
   "cell_type": "code",
   "execution_count": 16,
   "metadata": {},
   "outputs": [
    {
     "name": "stderr",
     "output_type": "stream",
     "text": [
      "C:\\Users\\jalfr\\AppData\\Local\\Temp\\ipykernel_10028\\2977788060.py:5: SettingWithCopyWarning: \n",
      "A value is trying to be set on a copy of a slice from a DataFrame.\n",
      "Try using .loc[row_indexer,col_indexer] = value instead\n",
      "\n",
      "See the caveats in the documentation: https://pandas.pydata.org/pandas-docs/stable/user_guide/indexing.html#returning-a-view-versus-a-copy\n",
      "  df_sudeste['Município'] = df_sudeste['Município'].apply(lambda x: x[7:])\n"
     ]
    },
    {
     "data": {
      "image/png": "[encoded data removed]",
      "text/plain": [
       "<Figure size 640x480 with 1 Axes>"
      ]
     },
     "metadata": {},
     "output_type": "display_data"
    }
   ],
   "source": [
    "filtro = df['Município'].apply(lambda x: True if x[0] == '3' else False)\n",
    "\n",
    "df_sudeste = df[filtro]\n",
    "\n",
    "df_sudeste['Município'] = df_sudeste['Município'].apply(lambda x: x[7:])\n",
    "\n",
    "plt.bar(df_sudeste['Município'],df_sudeste['19 Anos ou Menos'])\n",
    "plt.xlabel('Município')\n",
    "plt.xticks(rotation=90)\n",
    "plt.ylabel('Número de Jovens')\n",
    "plt.title('Número de Jovens por Município - Sudeste')\n",
    "plt.show()"
   ]
  },
  {
   "cell_type": "markdown",
   "metadata": {},
   "source": [
    "Apesar de tecnicamente mostrar o número de jovens por município do sudeste, a imagem acima é ilegível.\n",
    "\n",
    "Vamos limitar um pouco mais nosso escopo."
   ]
  },
  {
   "cell_type": "markdown",
   "metadata": {},
   "source": [
    "## Ordenação - Avaliando Números em Ordem\n",
    "\n",
    "### Exercício 7 - \n",
    "\n",
    "Vamos ordenar nosso DataFrame do Sudeste em termos de quem tem o maior número de jovens. Pegar apenas os 10 primeiros (os que possuem o maior número de jovens).\n",
    "\n",
    "Para isso, iremos utilizar a função `sort_values()`."
   ]
  },
  {
   "cell_type": "code",
   "execution_count": null,
   "metadata": {},
   "outputs": [],
   "source": []
  },
  {
   "cell_type": "markdown",
   "metadata": {},
   "source": [
    "### Exercício 8 - \n",
    "Faça o mesmo para os municípios do Sudeste que tem a maior taxa de jovens."
   ]
  },
  {
   "cell_type": "code",
   "execution_count": null,
   "metadata": {},
   "outputs": [],
   "source": []
  },
  {
   "cell_type": "markdown",
   "metadata": {},
   "source": [
    "### Exercício 9 - \n",
    "\n",
    "Refaça o gráfico dos 10 maiores municípios em termos de número de jovens, mas para a região do Nordeste."
   ]
  },
  {
   "cell_type": "code",
   "execution_count": null,
   "metadata": {},
   "outputs": [],
   "source": []
  },
  {
   "cell_type": "markdown",
   "metadata": {},
   "source": [
    "## Comparações - Regiões do Brasil\n",
    "\n",
    "A próxima etapa é utilizarmos funções de média, mediana e desvio padrão para analisarmos as regiões do Brasil. Todas essas funções podem ser encontradas na [documentação da biblioteca Pandas](https://pandas.pydata.org/docs/). "
   ]
  },
  {
   "cell_type": "markdown",
   "metadata": {},
   "source": [
    "### Exercício 10 - \n",
    "Faça um gráfico que mostre a média de número de jovens por região."
   ]
  },
  {
   "cell_type": "code",
   "execution_count": null,
   "metadata": {},
   "outputs": [],
   "source": []
  },
  {
   "cell_type": "code",
   "execution_count": null,
   "metadata": {},
   "outputs": [],
   "source": []
  },
  {
   "cell_type": "markdown",
   "metadata": {},
   "source": [
    "## Exercício 11 - \n",
    "Crie um gráfico que mostre a média de todos os grupos por região."
   ]
  },
  {
   "cell_type": "code",
   "execution_count": null,
   "metadata": {},
   "outputs": [],
   "source": []
  },
  {
   "cell_type": "code",
   "execution_count": null,
   "metadata": {},
   "outputs": [],
   "source": []
  },
  {
   "cell_type": "markdown",
   "metadata": {},
   "source": [
    "## Exercício 12 - \n",
    "Faça o mesmo para o desvio padrão e mediana."
   ]
  },
  {
   "cell_type": "code",
   "execution_count": null,
   "metadata": {},
   "outputs": [],
   "source": []
  },
  {
   "cell_type": "markdown",
   "metadata": {},
   "source": [
    "## Exercício 13 - \n",
    "Você já criou um gráfico para visualisar médias por faixa etária por região. Porém, podemos nos perguntar: será que essas diferenças observadas estão dentro das diferenças esperadas para grupos diferentes? Para isso, vamos usar o desvio padrão, como em:\n",
    "\n",
    "$$\n",
    "\\sigma = \\sqrt{\\frac{\\sum_{n=1}^{N} (x_n-\\mu)^2}{N}}\n",
    "$$\n",
    "\n",
    "A fórmula não é muito necessária, apenas é importante saber utilizar a função `.std()` do Pandas.\n",
    "\n",
    "Gostaríamos de avaliar as diferenças entre as médias dos grupos em comparação ao desvio padrão esperado. Para tal, usaremos o coeficiente *d de Cohen* ([Cohen's d](https://en.wikipedia.org/wiki/Effect_size#Cohen's_d)). Ele é calculado para cada grupo *g* como:\n",
    "\n",
    "$$\n",
    "d_g = \\frac{\\mu_g - \\mu}{\\sigma},\n",
    "$$\n",
    "\n",
    "onde:\n",
    "\n",
    "* $d_g$ é o coeficiente $d$ para o grupo $g$,\n",
    "* $\\mu_g$ é a média do grupo $g$ (no nosso caso, é a média para cada faixa etária)\n",
    "* $\\mu$ é a média agregada, isto é, a média da população de todos os municípios, e\n",
    "* $\\sigma$ é o desvio padrão agregado, isto é, o desvio padrão da população de todos os municípios do Brasil.\n",
    "\n",
    "Agora que você já sabe a teoria, hora de colocar na prática."
   ]
  },
  {
   "cell_type": "markdown",
   "metadata": {},
   "source": [
    "Repository under MIT License. Copyright &copy; 2023 João Alfredo Cardoso Lamy"
   ]
  }
 ],
 "metadata": {
  "kernelspec": {
   "display_name": "env",
   "language": "python",
   "name": "python3"
  },
  "language_info": {
   "codemirror_mode": {
    "name": "ipython",
    "version": 3
   },
   "file_extension": ".py",
   "mimetype": "text/x-python",
   "name": "python",
   "nbconvert_exporter": "python",
   "pygments_lexer": "ipython3",
   "version": "3.10.13"
  },
  "orig_nbformat": 4,
  "vscode": {
   "interpreter": {
    "hash": "35baacc6244c2c4cacc2be55295c8edcd7f972e742cd4f4819a385d69745c9f2"
   }
  }
 },
 "nbformat": 4,
 "nbformat_minor": 2
}
