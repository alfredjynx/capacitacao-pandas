{
 "cells": [
  {
   "cell_type": "markdown",
   "metadata": {},
   "source": [
    "# Trabalhando com Dados Reais\n",
    "\n",
    "Nesse notebook, iremos realizar o processo de limpeza e tratamento de dados de estações meteorológicas do INMET (Instituro Nacional de Meteorologia).\n",
    "\n",
    "Inicialmente, teremos que separar nossos dados em DataFrames referentes a cada cidade contemplada."
   ]
  },
  {
   "cell_type": "code",
   "execution_count": 43,
   "metadata": {},
   "outputs": [],
   "source": [
    "import pandas as pd\n",
    "import matplotlib.pyplot as plt\n",
    "import numpy as np"
   ]
  },
  {
   "cell_type": "markdown",
   "metadata": {},
   "source": [
    "## Exercício - 1\n",
    "Crie DataFrames para cada cidade presente nos dados da pasta `data/INMET`."
   ]
  },
  {
   "cell_type": "code",
   "execution_count": null,
   "metadata": {},
   "outputs": [],
   "source": []
  },
  {
   "cell_type": "markdown",
   "metadata": {},
   "source": [
    "### IMPORTANTE\n",
    "\n",
    "Antes de prosseguir, é essencial garantir que os seus DataFrames foram criados corretamente. Verifique os parâmetros `sep` e `skiprows` da documentação do pandas."
   ]
  },
  {
   "cell_type": "code",
   "execution_count": null,
   "metadata": {},
   "outputs": [],
   "source": []
  },
  {
   "cell_type": "markdown",
   "metadata": {},
   "source": [
    "Como evidente, para todos os DataFrames, a única coluna não nula é a da `Data de Medição`, portanto, iremos começar por ela."
   ]
  },
  {
   "cell_type": "markdown",
   "metadata": {},
   "source": [
    "# Utilizando DateTime\n",
    "\n",
    "DateTime é uma classe do Python que transforma um data (string) em um objeto com propriedades a mais. Uma dessas propriedades é a possibilidade de comparação booleana. Um objeto Datetime pode ser comparado com outro, e o resultado nos trás um valor booleano. \n",
    "\n",
    "Um exemplo disso seria o problema abaixo:\n",
    "\n",
    "**Exercício** - $N$\n",
    "\n",
    "        Crie um DataFrame com apenas medições que foram feitas em 2021.\n",
    "\n",
    "Para completar o exercício acima, podemos criar um filtro que checa se o ano da data é 2021. Isso é uma das possíveis vantagens do DateTime."
   ]
  },
  {
   "cell_type": "markdown",
   "metadata": {},
   "source": [
    "## Exercício - 2\n",
    "Passe todas as colunas de data para objetos DateTime. Veja documentação do Pandas, ou pesquise outros métodos. "
   ]
  },
  {
   "cell_type": "code",
   "execution_count": null,
   "metadata": {},
   "outputs": [],
   "source": []
  },
  {
   "cell_type": "markdown",
   "metadata": {},
   "source": [
    "## Exercício - 3\n",
    "Faça um gráfico que mostre a temperatura máxima em cada dia de março de 2020 para os municípios de São Paulo, São Carlos e Sorocaba."
   ]
  },
  {
   "cell_type": "code",
   "execution_count": null,
   "metadata": {},
   "outputs": [],
   "source": []
  },
  {
   "cell_type": "markdown",
   "metadata": {},
   "source": [
    "### Preste Atenção\n",
    "Há valores nulos. O que fazer com essa informação?\n",
    "\n",
    "Bom, depende muito da situação. Vamos explorar dois caminhos."
   ]
  },
  {
   "cell_type": "markdown",
   "metadata": {},
   "source": [
    "## Exerício - 4\n",
    "Veja, para cada coluna dos seus DataFrames originais, quantos valores estão nulos, ou se há valores nulos."
   ]
  },
  {
   "cell_type": "code",
   "execution_count": null,
   "metadata": {},
   "outputs": [],
   "source": []
  }
 ],
 "metadata": {
  "kernelspec": {
   "display_name": "env",
   "language": "python",
   "name": "python3"
  },
  "language_info": {
   "codemirror_mode": {
    "name": "ipython",
    "version": 3
   },
   "file_extension": ".py",
   "mimetype": "text/x-python",
   "name": "python",
   "nbconvert_exporter": "python",
   "pygments_lexer": "ipython3",
   "version": "3.10.2"
  },
  "orig_nbformat": 4
 },
 "nbformat": 4,
 "nbformat_minor": 2
}
